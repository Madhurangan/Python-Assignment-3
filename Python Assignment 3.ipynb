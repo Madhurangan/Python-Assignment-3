{
 "cells": [
  {
   "cell_type": "markdown",
   "id": "eb581736",
   "metadata": {},
   "source": [
    "# 1.1"
   ]
  },
  {
   "cell_type": "code",
   "execution_count": 48,
   "id": "d5e6c258",
   "metadata": {},
   "outputs": [
    {
     "name": "stdout",
     "output_type": "stream",
     "text": [
      "100\n"
     ]
    }
   ],
   "source": [
    "def myreduce(add,list_1):\n",
    "    return a\n",
    "def add(a,b):\n",
    "    return a+b\n",
    "list_1=[10,15,25,40,10]\n",
    "a=list_1[0]\n",
    "for i in range(1,len(list_1)):\n",
    "    b=list_1[i]\n",
    "    a=add(a,b)\n",
    "print(myreduce(add,list_1))"
   ]
  },
  {
   "cell_type": "markdown",
   "id": "7ed5d94a",
   "metadata": {},
   "source": [
    "# 1.2"
   ]
  },
  {
   "cell_type": "code",
   "execution_count": 49,
   "id": "6a4a03fe",
   "metadata": {},
   "outputs": [
    {
     "name": "stdout",
     "output_type": "stream",
     "text": [
      "[2, 4, 6, 8, 10]\n"
     ]
    }
   ],
   "source": [
    "def myfilter(is_even,list_2):\n",
    "    return is_even(a)\n",
    "list_2=[2,3,4,5,6,7,8,9,10]\n",
    "list_3=[]\n",
    "def is_even(a):\n",
    "    for i in list_2:\n",
    "        if i%2==0:\n",
    "            list_3.append(i)\n",
    "    print(list_3)\n",
    "myfilter(is_even,list_2)"
   ]
  },
  {
   "cell_type": "markdown",
   "id": "e31101fc",
   "metadata": {},
   "source": [
    "# 2"
   ]
  },
  {
   "cell_type": "code",
   "execution_count": 57,
   "id": "3286307f",
   "metadata": {},
   "outputs": [
    {
     "name": "stdout",
     "output_type": "stream",
     "text": [
      "Output:\n",
      "['x', 'xx', 'xxx', 'xxxx', 'y', 'yy', 'yyy', 'yyyy', 'z', 'zz', 'zzz', 'zzzz']\n",
      "['x', 'y', 'z', 'xx', 'yy', 'zz', 'xxx', 'yyy', 'zzz', 'xxxx', 'yyyy', 'zzzz']\n",
      "[[2], [3], [4], [3], [4], [5], [4], [5], [6]] [[2, 3, 4, 5], [3, 4, 5, 6], [4, 5, 6, 7], [5, 6, 7, 8]]\n",
      "[(1, 1), (2, 1), (3, 1), (1, 2), (2, 2), (3, 2), (1, 3), (2, 3), (3, 3)]\n"
     ]
    }
   ],
   "source": [
    "\n",
    "print(\"Output:\")\n",
    "word_1=list('xyz')\n",
    "word_2=[x*n for x in word_1 for n in range(1,5) ]\n",
    "print(word_2)\n",
    "\n",
    "\n",
    "word_3=[x*n for n in range(1,5) for x in word_1 ]\n",
    "print(word_3)\n",
    "\n",
    "\n",
    "number=[2,3,4]\n",
    "number_1=[[x+n] for x in number for n in range(0,3)]\n",
    "number_2=[2,3,4,5]\n",
    "number_3=[[x+n for n in range(0,4)] for x in number_2 ]\n",
    "print(number_1,number_3)\n",
    "\n",
    "number_4=[1,2,3]\n",
    "number_5= [(b,a) for a in number_4 for b in number_4]\n",
    "print(number_5)"
   ]
  },
  {
   "cell_type": "code",
   "execution_count": null,
   "id": "34f8feeb",
   "metadata": {},
   "outputs": [],
   "source": []
  }
 ],
 "metadata": {
  "kernelspec": {
   "display_name": "Python 3",
   "language": "python",
   "name": "python3"
  },
  "language_info": {
   "codemirror_mode": {
    "name": "ipython",
    "version": 3
   },
   "file_extension": ".py",
   "mimetype": "text/x-python",
   "name": "python",
   "nbconvert_exporter": "python",
   "pygments_lexer": "ipython3",
   "version": "3.8.8"
  }
 },
 "nbformat": 4,
 "nbformat_minor": 5
}
